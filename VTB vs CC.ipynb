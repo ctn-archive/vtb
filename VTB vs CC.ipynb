{
 "cells": [
  {
   "cell_type": "code",
   "execution_count": 101,
   "metadata": {},
   "outputs": [],
   "source": [
    "%matplotlib inline"
   ]
  },
  {
   "cell_type": "code",
   "execution_count": 102,
   "metadata": {},
   "outputs": [],
   "source": [
    "import os.path\n",
    "\n",
    "from matplotlib import ticker\n",
    "import matplotlib.pyplot as plt\n",
    "from nengo.dists import CosineSimilarity\n",
    "import numpy as np\n",
    "from scipy.optimize import fsolve\n",
    "from scipy.special import beta, gamma\n",
    "from scipy import integrate"
   ]
  },
  {
   "cell_type": "code",
   "execution_count": 103,
   "metadata": {},
   "outputs": [],
   "source": [
    "textwidth = 390.56151 / 72.27\n",
    "row_height = textwidth / 1.5 / 1.6\n",
    "single_fig_size = (textwidth / 1.5, row_height)\n",
    "\n",
    "\n",
    "def save_tight_fig(fig, path, pad_inches=0., **kwargs):\n",
    "    dirname = os.path.dirname(path)\n",
    "    if not os.path.exists(dirname):\n",
    "        os.makedirs(dirname)\n",
    "    fig.savefig(path, bbox_inches='tight', pad_inches=pad_inches, **kwargs)\n",
    "\n",
    "\n",
    "weight = 'light'\n",
    "sns.set('paper', 'ticks', None, rc={\n",
    "    'axes.labelweight': weight,\n",
    "    'axes.linewidth': 0.6,\n",
    "    'axes.titleweight': weight,\n",
    "    'font.cursive': ['cmsy10'],\n",
    "    'font.sans-serif': ['Lato'],\n",
    "    'font.weight': weight,\n",
    "    'lines.linewidth': 1.,\n",
    "    'lines.markersize': 4,\n",
    "    'mathtext.fontset': 'custom',\n",
    "})"
   ]
  },
  {
   "cell_type": "code",
   "execution_count": 114,
   "metadata": {},
   "outputs": [],
   "source": [
    "cc_sim = {\n",
    "    2: 0.5579481179146595,\n",
    "    3: 0.29241144039321426,\n",
    "    4: 0.11418067597602344,\n",
    "    5: 0.033746530261135436,\n",
    "    6: -0.006885981292808013,\n",
    "    7: -0.0216477933456276,\n",
    "}\n",
    "\n",
    "vtb_sim = {\n",
    "    2: 0.555179340605646,\n",
    "    3: 0.37701993583903615,\n",
    "    4: 0.2749751969505107,\n",
    "    5: 0.2159885216534928,\n",
    "    6: 0.17566487134716197,\n",
    "    7: 0.14305184430252316,\n",
    "}"
   ]
  },
  {
   "cell_type": "code",
   "execution_count": 115,
   "metadata": {},
   "outputs": [],
   "source": [
    "def packing_lower_bound(max_sim, d):\n",
    "    d = np.asfarray(d)\n",
    "    k = d / (d - 1) * beta((d + 1) / 2., 0.5)\n",
    "    q = np.vectorize(lambda max_sim_, d_: integrate.quad(lambda x: np.sin(x)**(d_ - 2), 0., np.arccos(max_sim_))[0])(\n",
    "        max_sim, d)\n",
    "    return np.maximum(d, k / q)\n",
    "\n",
    "def packing_upper_bound(max_sim, d):\n",
    "    psi = np.arcsin(np.sqrt(2.) * np.sin(np.arccos(max_sim) / 2))\n",
    "    n = beta((d - 1) / 2., 0.5) * np.sin(psi) * np.tan(psi)\n",
    "    q = np.vectorize(lambda max_sim_, d_, psi_: integrate.quad(\n",
    "        lambda x: np.sin(x)**(d_ - 2) * (np.cos(x) - np.cos(psi_)), 0., psi_)[0])(\n",
    "        max_sim, d, psi)\n",
    "    dn = 2 * q\n",
    "    return n / dn"
   ]
  },
  {
   "cell_type": "code",
   "execution_count": 116,
   "metadata": {},
   "outputs": [],
   "source": [
    "max_sims = np.linspace(0.01, 0.3)\n",
    "ds = np.arange(2, 64)**2\n",
    "x, y = np.meshgrid(max_sims, ds)\n",
    "z = packing_lower_bound(x, y)"
   ]
  },
  {
   "cell_type": "code",
   "execution_count": 117,
   "metadata": {},
   "outputs": [
    {
     "data": {
      "image/png": "[encoded data removed]",
      "text/plain": [
       "<Figure size 259.402x162.126 with 2 Axes>"
      ]
     },
     "metadata": {},
     "output_type": "display_data"
    }
   ],
   "source": [
    "fig = plt.figure(figsize=single_fig_size)\n",
    "ax = fig.add_subplot(1, 1, 1)\n",
    "\n",
    "cf = ax.contourf(x, y, z, locator=ticker.LogLocator(), cmap='viridis')\n",
    "cbar = fig.colorbar(cf)\n",
    "ax.axvline(x=cc_sim[5], c='red', linestyle='--')\n",
    "ax.axvline(x=vtb_sim[5], c='red', linestyle='--')\n",
    "\n",
    "ax.set_xlabel(r\"Maximum similarity $s_{\\mathrm{max}}$\")\n",
    "ax.set_ylabel(\"Dimensions $d$\")\n",
    "cbar.set_label(r\"$M(s_{\\mathrm{max}}, d)$\")\n",
    "\n",
    "import matplotlib\n",
    "matplotlib.rcParams['text.latex.preamble'] = [\n",
    "    r'\\usepackage{amsmath}',\n",
    "    r'\\usepackage{amssymb}',\n",
    "    r'\\usepackage[default]{lato}',\n",
    "    r'\\renewcommand{\\mddefault}{l}',\n",
    "    r'\\usepackage{mathastext}',\n",
    "]\n",
    "ax.text(\n",
    "    cc_sim[5], np.max(ds), r\"$\\mathit{s}_{max,\\circledast}$\",\n",
    "    horizontalalignment='center', verticalalignment='bottom', usetex=True)\n",
    "ax.text(\n",
    "    vtb_sim[5], np.max(ds), r\"$\\mathit{s}_{max,VTB}$\",\n",
    "    horizontalalignment='center', verticalalignment='bottom', usetex=True)\n",
    "\n",
    "fig.tight_layout()"
   ]
  },
  {
   "cell_type": "code",
   "execution_count": 118,
   "metadata": {},
   "outputs": [
    {
     "name": "stderr",
     "output_type": "stream",
     "text": [
      "/home/jgosmann/.pyenv/versions/3.6.1/lib/python3.6/site-packages/matplotlib/mathtext.py:834: MathTextWarning: Substituting with a symbol from Computer Modern.\n",
      "  MathTextWarning)\n",
      "/home/jgosmann/.pyenv/versions/3.6.1/lib/python3.6/site-packages/matplotlib/mathtext.py:834: MathTextWarning: Substituting with a symbol from Computer Modern.\n",
      "  MathTextWarning)\n"
     ]
    }
   ],
   "source": [
    "save_tight_fig(fig, '../../vtb-paper/figures/vocabsize.pdf', pad_inches=0.02)"
   ]
  },
  {
   "cell_type": "code",
   "execution_count": 121,
   "metadata": {},
   "outputs": [
    {
     "name": "stdout",
     "output_type": "stream",
     "text": [
      "4\n",
      "intersection 1675.260526228084\n",
      "CC d 837.630263114042\n",
      "VTB d 141.05491934924933\n",
      "4\n",
      "intersection 1157.4399431684722\n",
      "CC d 578.7199715842361\n",
      "VTB d 110.238250046833\n",
      "5\n",
      "intersection 3270.8552176192334\n",
      "CC d 1635.4276088096167\n",
      "VTB d 220.3472055691731\n",
      "5\n",
      "intersection 8.000000000000012\n",
      "CC d 4.000000000000006\n",
      "VTB d 4.0000000000000036\n"
     ]
    },
    {
     "data": {
      "image/png": "[encoded data removed]",
      "text/plain": [
       "<Figure size 259.402x486.378 with 6 Axes>"
      ]
     },
     "metadata": {},
     "output_type": "display_data"
    }
   ],
   "source": [
    "fig = plt.figure(figsize=(textwidth / 1.5, 2 * 1.5 * row_height))\n",
    "\n",
    "for i, name in zip(range(4, 6), ['a', 'b']):\n",
    "    ax = fig.add_subplot(2, 1, i - 3)\n",
    "    \n",
    "    noise_scaling = (vtb_sim[i] / cc_sim[i])**2.\n",
    "\n",
    "    cc_ds = np.arange(2, 4000)\n",
    "    cc_multiplies = 2 * cc_ds\n",
    "    ax.plot(cc_multiplies, packing_lower_bound(cc_sim[i], cc_ds), label=\"Circular convolution\")\n",
    "\n",
    "    cc_scaled_ds = np.arange(2, np.max(cc_multiplies) / 2. / noise_scaling)\n",
    "    cc_scaled_multiplies = 2 * cc_scaled_ds * noise_scaling\n",
    "    ax.plot(\n",
    "        cc_scaled_multiplies, packing_lower_bound(cc_sim[i], cc_scaled_ds),\n",
    "        c='C0', ls='--', label=\"adjusted for spiking noise\")\n",
    "\n",
    "    vtb_ds = np.arange(2, np.sqrt(np.max(cc_multiplies)**(2./3.)))**2.\n",
    "    vtb_multiplies = vtb_ds**1.5\n",
    "    ax.plot(vtb_multiplies, packing_lower_bound(vtb_sim[i], vtb_ds), label=\"VTB\")\n",
    "\n",
    "    ax.set_xlim(0., np.max(cc_multiplies))\n",
    "    cc_d_scale = ax.twiny()\n",
    "    cc_d_scale.set_xlim(0., np.max(cc_ds))\n",
    "    vtb_d_scale = ax.twiny()\n",
    "    vtb_d_scale.set_xlim(0., np.max(vtb_ds))\n",
    "\n",
    "    vtb_d_scale.spines['top'].set_position(('axes', 1.35))\n",
    "\n",
    "    cc_d_scale.xaxis.label.set_color('C0')\n",
    "    vtb_d_scale.xaxis.label.set_color('C1')\n",
    "    cc_d_scale.tick_params(axis='x', colors='C0')\n",
    "    vtb_d_scale.tick_params(axis='x', colors='C1')\n",
    "\n",
    "    ax.set_xlabel(\"Neural resources (multiplies)\")\n",
    "    ax.set_ylabel(r\"$M(s_{\\mathrm{max}}, d)$\")\n",
    "    cc_d_scale.set_xlabel(\"Circular convolution dimensions  $d$\")\n",
    "    vtb_d_scale.set_xlabel(\"VTB dimensions $d$\")\n",
    "\n",
    "    if i < 5:\n",
    "        ax.legend(loc='best')\n",
    "    ax.semilogy()\n",
    "    ax.text(-0.25, 1.5, \"({})\\n$n = {}$\".format(name, i), transform=ax.transAxes, weight='bold', fontsize=14)\n",
    "    \n",
    "    intersection = fsolve(\n",
    "        lambda x: packing_lower_bound(cc_sim[i], x / 2.) - packing_lower_bound(vtb_sim[i], x**(2./3.)), 3000)[0]\n",
    "    print(i)\n",
    "    print(\"intersection\", intersection)\n",
    "    print(\"CC d\", intersection / 2.)\n",
    "    print(\"VTB d\", intersection**(2./3.))\n",
    "    \n",
    "    intersection = fsolve(\n",
    "        lambda x: packing_lower_bound(cc_sim[i], x / 2.) - packing_lower_bound(vtb_sim[i], x**(2./3.)), 1000)[0]\n",
    "    print(i)\n",
    "    print(\"intersection\", intersection)\n",
    "    print(\"CC d\", intersection / 2.)\n",
    "    print(\"VTB d\", intersection**(2./3.))\n",
    "\n",
    "sns.despine(fig, top=False)\n",
    "fig.tight_layout(rect=(0., 0., 1., 1.))"
   ]
  },
  {
   "cell_type": "code",
   "execution_count": 122,
   "metadata": {},
   "outputs": [],
   "source": [
    "save_tight_fig(fig, '../../vtb-paper/figures/tradeoff4.pdf')"
   ]
  },
  {
   "cell_type": "code",
   "execution_count": null,
   "metadata": {},
   "outputs": [],
   "source": []
  }
 ],
 "metadata": {
  "kernelspec": {
   "display_name": "Python 3",
   "language": "python",
   "name": "python3"
  },
  "language_info": {
   "codemirror_mode": {
    "name": "ipython",
    "version": 3
   },
   "file_extension": ".py",
   "mimetype": "text/x-python",
   "name": "python",
   "nbconvert_exporter": "python",
   "pygments_lexer": "ipython3",
   "version": "3.6.1"
  }
 },
 "nbformat": 4,
 "nbformat_minor": 2
}
